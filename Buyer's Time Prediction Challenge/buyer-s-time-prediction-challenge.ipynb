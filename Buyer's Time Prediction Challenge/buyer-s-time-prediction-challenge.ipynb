{
 "cells": [
  {
   "cell_type": "code",
   "execution_count": 1,
   "metadata": {
    "_cell_guid": "79c7e3d0-c299-4dcb-8224-4455121ee9b0",
    "_uuid": "d629ff2d2480ee46fbb7e2d37f6b5fab8052498a",
    "execution": {
     "iopub.execute_input": "2021-01-01T06:55:54.704739Z",
     "iopub.status.busy": "2021-01-01T06:55:54.703613Z",
     "iopub.status.idle": "2021-01-01T06:55:54.708581Z",
     "shell.execute_reply": "2021-01-01T06:55:54.709245Z"
    },
    "papermill": {
     "duration": 0.034517,
     "end_time": "2021-01-01T06:55:54.709443",
     "exception": false,
     "start_time": "2021-01-01T06:55:54.674926",
     "status": "completed"
    },
    "tags": []
   },
   "outputs": [],
   "source": [
    "import pandas as pd\n",
    "import numpy as np"
   ]
  },
  {
   "cell_type": "code",
   "execution_count": 2,
   "metadata": {
    "execution": {
     "iopub.execute_input": "2021-01-01T06:55:54.756752Z",
     "iopub.status.busy": "2021-01-01T06:55:54.755652Z",
     "iopub.status.idle": "2021-01-01T06:55:54.863785Z",
     "shell.execute_reply": "2021-01-01T06:55:54.864471Z"
    },
    "papermill": {
     "duration": 0.133238,
     "end_time": "2021-01-01T06:55:54.864631",
     "exception": false,
     "start_time": "2021-01-01T06:55:54.731393",
     "status": "completed"
    },
    "tags": []
   },
   "outputs": [
    {
     "data": {
      "text/html": [
       "<div>\n",
       "<style scoped>\n",
       "    .dataframe tbody tr th:only-of-type {\n",
       "        vertical-align: middle;\n",
       "    }\n",
       "\n",
       "    .dataframe tbody tr th {\n",
       "        vertical-align: top;\n",
       "    }\n",
       "\n",
       "    .dataframe thead th {\n",
       "        text-align: right;\n",
       "    }\n",
       "</style>\n",
       "<table border=\"1\" class=\"dataframe\">\n",
       "  <thead>\n",
       "    <tr style=\"text-align: right;\">\n",
       "      <th></th>\n",
       "      <th>session_id</th>\n",
       "      <th>session_number</th>\n",
       "      <th>client_agent</th>\n",
       "      <th>device_details</th>\n",
       "      <th>date</th>\n",
       "      <th>purchased</th>\n",
       "      <th>added_in_cart</th>\n",
       "      <th>checked_out</th>\n",
       "      <th>time_spent</th>\n",
       "    </tr>\n",
       "  </thead>\n",
       "  <tbody>\n",
       "    <tr>\n",
       "      <th>0</th>\n",
       "      <td>57f879e70d3c5fc2a98102d64c9fd84e</td>\n",
       "      <td>715</td>\n",
       "      <td>Mozilla/5.0 (Windows NT 6.1; WOW64) AppleWebKi...</td>\n",
       "      <td>Desktop - Chrome</td>\n",
       "      <td>2020-01-22</td>\n",
       "      <td>1</td>\n",
       "      <td>0</td>\n",
       "      <td>0</td>\n",
       "      <td>236.886</td>\n",
       "    </tr>\n",
       "    <tr>\n",
       "      <th>1</th>\n",
       "      <td>a5442b0c7c33d0a811e7661e556b2de8</td>\n",
       "      <td>55</td>\n",
       "      <td>Product/8.0 iPhone/8.1.3</td>\n",
       "      <td>iPhone - iOS</td>\n",
       "      <td>2020-02-27</td>\n",
       "      <td>1</td>\n",
       "      <td>0</td>\n",
       "      <td>0</td>\n",
       "      <td>1277.455</td>\n",
       "    </tr>\n",
       "    <tr>\n",
       "      <th>2</th>\n",
       "      <td>305cb1486ed8610c00b37007926cb2c4</td>\n",
       "      <td>11</td>\n",
       "      <td>Mozilla/5.0 (iPhone; CPU iPhone OS 7_1_2 like ...</td>\n",
       "      <td>iPhone - MobileWeb</td>\n",
       "      <td>2019-08-01</td>\n",
       "      <td>0</td>\n",
       "      <td>0</td>\n",
       "      <td>0</td>\n",
       "      <td>21.704</td>\n",
       "    </tr>\n",
       "    <tr>\n",
       "      <th>3</th>\n",
       "      <td>f2c1ecc9993f0071df91ba178450498c</td>\n",
       "      <td>2794</td>\n",
       "      <td>Mozilla/5.0 (compatible; MSIE 9.0; Windows NT ...</td>\n",
       "      <td>Desktop - IE</td>\n",
       "      <td>2019-12-30</td>\n",
       "      <td>0</td>\n",
       "      <td>1</td>\n",
       "      <td>0</td>\n",
       "      <td>455.201</td>\n",
       "    </tr>\n",
       "    <tr>\n",
       "      <th>4</th>\n",
       "      <td>e460830ae295e55d2216ebdc761ab9a6</td>\n",
       "      <td>3674</td>\n",
       "      <td>Mozilla/5.0 (iPhone; CPU iPhone OS 7_1_1 like ...</td>\n",
       "      <td>iPhone - Web</td>\n",
       "      <td>2019-09-10</td>\n",
       "      <td>0</td>\n",
       "      <td>0</td>\n",
       "      <td>0</td>\n",
       "      <td>1164.877</td>\n",
       "    </tr>\n",
       "  </tbody>\n",
       "</table>\n",
       "</div>"
      ],
      "text/plain": [
       "                         session_id  session_number  \\\n",
       "0  57f879e70d3c5fc2a98102d64c9fd84e             715   \n",
       "1  a5442b0c7c33d0a811e7661e556b2de8              55   \n",
       "2  305cb1486ed8610c00b37007926cb2c4              11   \n",
       "3  f2c1ecc9993f0071df91ba178450498c            2794   \n",
       "4  e460830ae295e55d2216ebdc761ab9a6            3674   \n",
       "\n",
       "                                        client_agent      device_details  \\\n",
       "0  Mozilla/5.0 (Windows NT 6.1; WOW64) AppleWebKi...    Desktop - Chrome   \n",
       "1                           Product/8.0 iPhone/8.1.3        iPhone - iOS   \n",
       "2  Mozilla/5.0 (iPhone; CPU iPhone OS 7_1_2 like ...  iPhone - MobileWeb   \n",
       "3  Mozilla/5.0 (compatible; MSIE 9.0; Windows NT ...        Desktop - IE   \n",
       "4  Mozilla/5.0 (iPhone; CPU iPhone OS 7_1_1 like ...        iPhone - Web   \n",
       "\n",
       "         date  purchased  added_in_cart  checked_out  time_spent  \n",
       "0  2020-01-22          1              0            0     236.886  \n",
       "1  2020-02-27          1              0            0    1277.455  \n",
       "2  2019-08-01          0              0            0      21.704  \n",
       "3  2019-12-30          0              1            0     455.201  \n",
       "4  2019-09-10          0              0            0    1164.877  "
      ]
     },
     "execution_count": 2,
     "metadata": {},
     "output_type": "execute_result"
    }
   ],
   "source": [
    "train_df = pd.read_csv('../input/buyers-time-prediction-challenge/ParticipantData_BTPC/Train.csv')\n",
    "train_df.head()"
   ]
  },
  {
   "cell_type": "code",
   "execution_count": 3,
   "metadata": {
    "execution": {
     "iopub.execute_input": "2021-01-01T06:55:54.914511Z",
     "iopub.status.busy": "2021-01-01T06:55:54.913390Z",
     "iopub.status.idle": "2021-01-01T06:55:54.960586Z",
     "shell.execute_reply": "2021-01-01T06:55:54.959873Z"
    },
    "papermill": {
     "duration": 0.073503,
     "end_time": "2021-01-01T06:55:54.960719",
     "exception": false,
     "start_time": "2021-01-01T06:55:54.887216",
     "status": "completed"
    },
    "tags": []
   },
   "outputs": [
    {
     "data": {
      "text/html": [
       "<div>\n",
       "<style scoped>\n",
       "    .dataframe tbody tr th:only-of-type {\n",
       "        vertical-align: middle;\n",
       "    }\n",
       "\n",
       "    .dataframe tbody tr th {\n",
       "        vertical-align: top;\n",
       "    }\n",
       "\n",
       "    .dataframe thead th {\n",
       "        text-align: right;\n",
       "    }\n",
       "</style>\n",
       "<table border=\"1\" class=\"dataframe\">\n",
       "  <thead>\n",
       "    <tr style=\"text-align: right;\">\n",
       "      <th></th>\n",
       "      <th>session_id</th>\n",
       "      <th>session_number</th>\n",
       "      <th>client_agent</th>\n",
       "      <th>device_details</th>\n",
       "      <th>date</th>\n",
       "      <th>purchased</th>\n",
       "      <th>added_in_cart</th>\n",
       "      <th>checked_out</th>\n",
       "    </tr>\n",
       "  </thead>\n",
       "  <tbody>\n",
       "    <tr>\n",
       "      <th>0</th>\n",
       "      <td>0bf72b05b2cf70dc5e28c3c09f9c4f97</td>\n",
       "      <td>99</td>\n",
       "      <td>Mozilla/5.0 (Windows NT 6.1; WOW64; Trident/7....</td>\n",
       "      <td>Desktop - IE</td>\n",
       "      <td>2020-01-07</td>\n",
       "      <td>1</td>\n",
       "      <td>0</td>\n",
       "      <td>0</td>\n",
       "    </tr>\n",
       "    <tr>\n",
       "      <th>1</th>\n",
       "      <td>6bc696d99954e4f1367e845465186aef</td>\n",
       "      <td>935</td>\n",
       "      <td>Product/160393 Android/4.3 Device/samsung_GT-I...</td>\n",
       "      <td>Android Phone - Android</td>\n",
       "      <td>2020-02-13</td>\n",
       "      <td>0</td>\n",
       "      <td>0</td>\n",
       "      <td>0</td>\n",
       "    </tr>\n",
       "    <tr>\n",
       "      <th>2</th>\n",
       "      <td>3d8611a5ea0f621d205b67f09f663a89</td>\n",
       "      <td>902</td>\n",
       "      <td>Product/4.2.2 iPhone/7.1.2</td>\n",
       "      <td>iPhone - iOS</td>\n",
       "      <td>2019-10-14</td>\n",
       "      <td>1</td>\n",
       "      <td>0</td>\n",
       "      <td>0</td>\n",
       "    </tr>\n",
       "    <tr>\n",
       "      <th>3</th>\n",
       "      <td>a0351545c032fd0da36289410c6c3354</td>\n",
       "      <td>3223</td>\n",
       "      <td>Mozilla/5.0 (compatible; MSIE 9.0; Windows NT ...</td>\n",
       "      <td>Desktop - IE</td>\n",
       "      <td>2020-01-26</td>\n",
       "      <td>0</td>\n",
       "      <td>0</td>\n",
       "      <td>0</td>\n",
       "    </tr>\n",
       "    <tr>\n",
       "      <th>4</th>\n",
       "      <td>dd8999772b0ab27225fb05e5df2f1da6</td>\n",
       "      <td>231</td>\n",
       "      <td>Mozilla/5.0 (Windows NT 6.3; WOW64) AppleWebKi...</td>\n",
       "      <td>Desktop - Chrome</td>\n",
       "      <td>2020-01-29</td>\n",
       "      <td>0</td>\n",
       "      <td>0</td>\n",
       "      <td>0</td>\n",
       "    </tr>\n",
       "  </tbody>\n",
       "</table>\n",
       "</div>"
      ],
      "text/plain": [
       "                         session_id  session_number  \\\n",
       "0  0bf72b05b2cf70dc5e28c3c09f9c4f97              99   \n",
       "1  6bc696d99954e4f1367e845465186aef             935   \n",
       "2  3d8611a5ea0f621d205b67f09f663a89             902   \n",
       "3  a0351545c032fd0da36289410c6c3354            3223   \n",
       "4  dd8999772b0ab27225fb05e5df2f1da6             231   \n",
       "\n",
       "                                        client_agent           device_details  \\\n",
       "0  Mozilla/5.0 (Windows NT 6.1; WOW64; Trident/7....             Desktop - IE   \n",
       "1  Product/160393 Android/4.3 Device/samsung_GT-I...  Android Phone - Android   \n",
       "2                         Product/4.2.2 iPhone/7.1.2             iPhone - iOS   \n",
       "3  Mozilla/5.0 (compatible; MSIE 9.0; Windows NT ...             Desktop - IE   \n",
       "4  Mozilla/5.0 (Windows NT 6.3; WOW64) AppleWebKi...         Desktop - Chrome   \n",
       "\n",
       "         date  purchased  added_in_cart  checked_out  \n",
       "0  2020-01-07          1              0            0  \n",
       "1  2020-02-13          0              0            0  \n",
       "2  2019-10-14          1              0            0  \n",
       "3  2020-01-26          0              0            0  \n",
       "4  2020-01-29          0              0            0  "
      ]
     },
     "execution_count": 3,
     "metadata": {},
     "output_type": "execute_result"
    }
   ],
   "source": [
    "test_df = pd.read_csv('../input/buyers-time-prediction-challenge/ParticipantData_BTPC/Test.csv')\n",
    "test_df.head()"
   ]
  },
  {
   "cell_type": "code",
   "execution_count": 4,
   "metadata": {
    "execution": {
     "iopub.execute_input": "2021-01-01T06:55:55.015170Z",
     "iopub.status.busy": "2021-01-01T06:55:55.014486Z",
     "iopub.status.idle": "2021-01-01T06:55:55.018017Z",
     "shell.execute_reply": "2021-01-01T06:55:55.018703Z"
    },
    "papermill": {
     "duration": 0.034303,
     "end_time": "2021-01-01T06:55:55.018854",
     "exception": false,
     "start_time": "2021-01-01T06:55:54.984551",
     "status": "completed"
    },
    "tags": []
   },
   "outputs": [],
   "source": [
    "train = train_df.copy()\n",
    "test = test_df.copy()"
   ]
  },
  {
   "cell_type": "code",
   "execution_count": 5,
   "metadata": {
    "execution": {
     "iopub.execute_input": "2021-01-01T06:55:55.055131Z",
     "iopub.status.busy": "2021-01-01T06:55:55.054485Z",
     "iopub.status.idle": "2021-01-01T06:55:55.070263Z",
     "shell.execute_reply": "2021-01-01T06:55:55.069494Z"
    },
    "papermill": {
     "duration": 0.035537,
     "end_time": "2021-01-01T06:55:55.070398",
     "exception": false,
     "start_time": "2021-01-01T06:55:55.034861",
     "status": "completed"
    },
    "tags": []
   },
   "outputs": [],
   "source": [
    "train = train.drop(labels=['session_id','client_agent'],axis = 1)\n",
    "test = test.drop(labels=['session_id','client_agent'],axis = 1)"
   ]
  },
  {
   "cell_type": "code",
   "execution_count": 6,
   "metadata": {
    "execution": {
     "iopub.execute_input": "2021-01-01T06:55:55.124446Z",
     "iopub.status.busy": "2021-01-01T06:55:55.123261Z",
     "iopub.status.idle": "2021-01-01T06:55:55.135659Z",
     "shell.execute_reply": "2021-01-01T06:55:55.136325Z"
    },
    "papermill": {
     "duration": 0.041905,
     "end_time": "2021-01-01T06:55:55.136503",
     "exception": false,
     "start_time": "2021-01-01T06:55:55.094598",
     "status": "completed"
    },
    "tags": []
   },
   "outputs": [
    {
     "data": {
      "text/plain": [
       "iPhone - iOS                  1515\n",
       "Desktop - Chrome               815\n",
       "iPhone - Web                   665\n",
       "Android Phone - Android        326\n",
       "Desktop - Safari               313\n",
       "Desktop - IE                   292\n",
       "iPad - Web                     289\n",
       "iPhone - MobileWeb             277\n",
       "Desktop - Firefox              234\n",
       "Android Tablet - Web           203\n",
       "Other - Other                  185\n",
       "Unknown - MobileWeb             87\n",
       "Android Phone - Web             86\n",
       "iPad - iOS                      77\n",
       "Android Phone - MobileWeb       54\n",
       "Android Tablet - Android         9\n",
       "Android Tablet - MobileWeb       2\n",
       "Name: device_details, dtype: int64"
      ]
     },
     "execution_count": 6,
     "metadata": {},
     "output_type": "execute_result"
    }
   ],
   "source": [
    "train['device_details'].value_counts()"
   ]
  },
  {
   "cell_type": "code",
   "execution_count": 7,
   "metadata": {
    "execution": {
     "iopub.execute_input": "2021-01-01T06:55:55.196775Z",
     "iopub.status.busy": "2021-01-01T06:55:55.196142Z",
     "iopub.status.idle": "2021-01-01T06:55:55.226326Z",
     "shell.execute_reply": "2021-01-01T06:55:55.226967Z"
    },
    "papermill": {
     "duration": 0.066258,
     "end_time": "2021-01-01T06:55:55.227189",
     "exception": false,
     "start_time": "2021-01-01T06:55:55.160931",
     "status": "completed"
    },
    "tags": []
   },
   "outputs": [
    {
     "data": {
      "text/html": [
       "<div>\n",
       "<style scoped>\n",
       "    .dataframe tbody tr th:only-of-type {\n",
       "        vertical-align: middle;\n",
       "    }\n",
       "\n",
       "    .dataframe tbody tr th {\n",
       "        vertical-align: top;\n",
       "    }\n",
       "\n",
       "    .dataframe thead th {\n",
       "        text-align: right;\n",
       "    }\n",
       "</style>\n",
       "<table border=\"1\" class=\"dataframe\">\n",
       "  <thead>\n",
       "    <tr style=\"text-align: right;\">\n",
       "      <th></th>\n",
       "      <th>session_number</th>\n",
       "      <th>purchased</th>\n",
       "      <th>added_in_cart</th>\n",
       "      <th>checked_out</th>\n",
       "      <th>time_spent</th>\n",
       "    </tr>\n",
       "  </thead>\n",
       "  <tbody>\n",
       "    <tr>\n",
       "      <th>count</th>\n",
       "      <td>5429.000000</td>\n",
       "      <td>5429.000000</td>\n",
       "      <td>5429.000000</td>\n",
       "      <td>5429.000000</td>\n",
       "      <td>5429.000000</td>\n",
       "    </tr>\n",
       "    <tr>\n",
       "      <th>mean</th>\n",
       "      <td>1072.835329</td>\n",
       "      <td>0.159145</td>\n",
       "      <td>0.162092</td>\n",
       "      <td>0.017499</td>\n",
       "      <td>663.194292</td>\n",
       "    </tr>\n",
       "    <tr>\n",
       "      <th>std</th>\n",
       "      <td>1436.351474</td>\n",
       "      <td>0.365845</td>\n",
       "      <td>0.368570</td>\n",
       "      <td>0.131132</td>\n",
       "      <td>1713.671664</td>\n",
       "    </tr>\n",
       "    <tr>\n",
       "      <th>min</th>\n",
       "      <td>11.000000</td>\n",
       "      <td>0.000000</td>\n",
       "      <td>0.000000</td>\n",
       "      <td>0.000000</td>\n",
       "      <td>14.400000</td>\n",
       "    </tr>\n",
       "    <tr>\n",
       "      <th>25%</th>\n",
       "      <td>121.000000</td>\n",
       "      <td>0.000000</td>\n",
       "      <td>0.000000</td>\n",
       "      <td>0.000000</td>\n",
       "      <td>22.699000</td>\n",
       "    </tr>\n",
       "    <tr>\n",
       "      <th>50%</th>\n",
       "      <td>517.000000</td>\n",
       "      <td>0.000000</td>\n",
       "      <td>0.000000</td>\n",
       "      <td>0.000000</td>\n",
       "      <td>98.312000</td>\n",
       "    </tr>\n",
       "    <tr>\n",
       "      <th>75%</th>\n",
       "      <td>1397.000000</td>\n",
       "      <td>0.000000</td>\n",
       "      <td>0.000000</td>\n",
       "      <td>0.000000</td>\n",
       "      <td>600.463000</td>\n",
       "    </tr>\n",
       "    <tr>\n",
       "      <th>max</th>\n",
       "      <td>7722.000000</td>\n",
       "      <td>1.000000</td>\n",
       "      <td>1.000000</td>\n",
       "      <td>1.000000</td>\n",
       "      <td>38494.025000</td>\n",
       "    </tr>\n",
       "  </tbody>\n",
       "</table>\n",
       "</div>"
      ],
      "text/plain": [
       "       session_number    purchased  added_in_cart  checked_out    time_spent\n",
       "count     5429.000000  5429.000000    5429.000000  5429.000000   5429.000000\n",
       "mean      1072.835329     0.159145       0.162092     0.017499    663.194292\n",
       "std       1436.351474     0.365845       0.368570     0.131132   1713.671664\n",
       "min         11.000000     0.000000       0.000000     0.000000     14.400000\n",
       "25%        121.000000     0.000000       0.000000     0.000000     22.699000\n",
       "50%        517.000000     0.000000       0.000000     0.000000     98.312000\n",
       "75%       1397.000000     0.000000       0.000000     0.000000    600.463000\n",
       "max       7722.000000     1.000000       1.000000     1.000000  38494.025000"
      ]
     },
     "execution_count": 7,
     "metadata": {},
     "output_type": "execute_result"
    }
   ],
   "source": [
    "train.describe()"
   ]
  },
  {
   "cell_type": "code",
   "execution_count": 8,
   "metadata": {
    "execution": {
     "iopub.execute_input": "2021-01-01T06:55:55.294690Z",
     "iopub.status.busy": "2021-01-01T06:55:55.288900Z",
     "iopub.status.idle": "2021-01-01T06:55:55.362677Z",
     "shell.execute_reply": "2021-01-01T06:55:55.363362Z"
    },
    "papermill": {
     "duration": 0.109926,
     "end_time": "2021-01-01T06:55:55.363542",
     "exception": false,
     "start_time": "2021-01-01T06:55:55.253616",
     "status": "completed"
    },
    "tags": []
   },
   "outputs": [
    {
     "name": "stderr",
     "output_type": "stream",
     "text": [
      "/opt/conda/lib/python3.7/site-packages/ipykernel_launcher.py:13: FutureWarning: The pandas.datetime class is deprecated and will be removed from pandas in a future version. Import from datetime module instead.\n",
      "  del sys.path[0]\n",
      "/opt/conda/lib/python3.7/site-packages/ipykernel_launcher.py:14: FutureWarning: The pandas.datetime class is deprecated and will be removed from pandas in a future version. Import from datetime module instead.\n",
      "  \n"
     ]
    }
   ],
   "source": [
    "train[\"date\"] = pd.to_datetime(train['date'])\n",
    "test[\"date\"] = pd.to_datetime(test['date'])\n",
    "\n",
    "train[\"year\"] = train['date'].dt.year\n",
    "test[\"year\"] = test['date'].dt.year\n",
    "\n",
    "train[\"month\"] = train['date'].dt.month\n",
    "test[\"month\"] = test['date'].dt.month\n",
    "\n",
    "train['day']= train['date'].dt.day\n",
    "test[\"day\"] = test['date'].dt.day\n",
    "\n",
    "train['diff_date'] = ((train['date'] - pd.datetime(1970,1,1)).dt.total_seconds())/(10**6)\n",
    "test['diff_date'] = ((test['date'] - pd.datetime(1970,1,1)).dt.total_seconds())/(10**6)"
   ]
  },
  {
   "cell_type": "code",
   "execution_count": 9,
   "metadata": {
    "execution": {
     "iopub.execute_input": "2021-01-01T06:55:55.419989Z",
     "iopub.status.busy": "2021-01-01T06:55:55.419355Z",
     "iopub.status.idle": "2021-01-01T06:55:55.439778Z",
     "shell.execute_reply": "2021-01-01T06:55:55.438879Z"
    },
    "papermill": {
     "duration": 0.050129,
     "end_time": "2021-01-01T06:55:55.439909",
     "exception": false,
     "start_time": "2021-01-01T06:55:55.389780",
     "status": "completed"
    },
    "tags": []
   },
   "outputs": [
    {
     "data": {
      "text/html": [
       "<div>\n",
       "<style scoped>\n",
       "    .dataframe tbody tr th:only-of-type {\n",
       "        vertical-align: middle;\n",
       "    }\n",
       "\n",
       "    .dataframe tbody tr th {\n",
       "        vertical-align: top;\n",
       "    }\n",
       "\n",
       "    .dataframe thead th {\n",
       "        text-align: right;\n",
       "    }\n",
       "</style>\n",
       "<table border=\"1\" class=\"dataframe\">\n",
       "  <thead>\n",
       "    <tr style=\"text-align: right;\">\n",
       "      <th></th>\n",
       "      <th>session_number</th>\n",
       "      <th>device_details</th>\n",
       "      <th>date</th>\n",
       "      <th>purchased</th>\n",
       "      <th>added_in_cart</th>\n",
       "      <th>checked_out</th>\n",
       "      <th>time_spent</th>\n",
       "      <th>year</th>\n",
       "      <th>month</th>\n",
       "      <th>day</th>\n",
       "      <th>diff_date</th>\n",
       "    </tr>\n",
       "  </thead>\n",
       "  <tbody>\n",
       "    <tr>\n",
       "      <th>0</th>\n",
       "      <td>715</td>\n",
       "      <td>Desktop - Chrome</td>\n",
       "      <td>2020-01-22</td>\n",
       "      <td>1</td>\n",
       "      <td>0</td>\n",
       "      <td>0</td>\n",
       "      <td>236.886</td>\n",
       "      <td>2020</td>\n",
       "      <td>1</td>\n",
       "      <td>22</td>\n",
       "      <td>1579.6512</td>\n",
       "    </tr>\n",
       "    <tr>\n",
       "      <th>1</th>\n",
       "      <td>55</td>\n",
       "      <td>iPhone - iOS</td>\n",
       "      <td>2020-02-27</td>\n",
       "      <td>1</td>\n",
       "      <td>0</td>\n",
       "      <td>0</td>\n",
       "      <td>1277.455</td>\n",
       "      <td>2020</td>\n",
       "      <td>2</td>\n",
       "      <td>27</td>\n",
       "      <td>1582.7616</td>\n",
       "    </tr>\n",
       "    <tr>\n",
       "      <th>2</th>\n",
       "      <td>11</td>\n",
       "      <td>iPhone - MobileWeb</td>\n",
       "      <td>2019-08-01</td>\n",
       "      <td>0</td>\n",
       "      <td>0</td>\n",
       "      <td>0</td>\n",
       "      <td>21.704</td>\n",
       "      <td>2019</td>\n",
       "      <td>8</td>\n",
       "      <td>1</td>\n",
       "      <td>1564.6176</td>\n",
       "    </tr>\n",
       "    <tr>\n",
       "      <th>3</th>\n",
       "      <td>2794</td>\n",
       "      <td>Desktop - IE</td>\n",
       "      <td>2019-12-30</td>\n",
       "      <td>0</td>\n",
       "      <td>1</td>\n",
       "      <td>0</td>\n",
       "      <td>455.201</td>\n",
       "      <td>2019</td>\n",
       "      <td>12</td>\n",
       "      <td>30</td>\n",
       "      <td>1577.6640</td>\n",
       "    </tr>\n",
       "    <tr>\n",
       "      <th>4</th>\n",
       "      <td>3674</td>\n",
       "      <td>iPhone - Web</td>\n",
       "      <td>2019-09-10</td>\n",
       "      <td>0</td>\n",
       "      <td>0</td>\n",
       "      <td>0</td>\n",
       "      <td>1164.877</td>\n",
       "      <td>2019</td>\n",
       "      <td>9</td>\n",
       "      <td>10</td>\n",
       "      <td>1568.0736</td>\n",
       "    </tr>\n",
       "  </tbody>\n",
       "</table>\n",
       "</div>"
      ],
      "text/plain": [
       "   session_number      device_details       date  purchased  added_in_cart  \\\n",
       "0             715    Desktop - Chrome 2020-01-22          1              0   \n",
       "1              55        iPhone - iOS 2020-02-27          1              0   \n",
       "2              11  iPhone - MobileWeb 2019-08-01          0              0   \n",
       "3            2794        Desktop - IE 2019-12-30          0              1   \n",
       "4            3674        iPhone - Web 2019-09-10          0              0   \n",
       "\n",
       "   checked_out  time_spent  year  month  day  diff_date  \n",
       "0            0     236.886  2020      1   22  1579.6512  \n",
       "1            0    1277.455  2020      2   27  1582.7616  \n",
       "2            0      21.704  2019      8    1  1564.6176  \n",
       "3            0     455.201  2019     12   30  1577.6640  \n",
       "4            0    1164.877  2019      9   10  1568.0736  "
      ]
     },
     "execution_count": 9,
     "metadata": {},
     "output_type": "execute_result"
    }
   ],
   "source": [
    "train.head()"
   ]
  },
  {
   "cell_type": "code",
   "execution_count": 10,
   "metadata": {
    "execution": {
     "iopub.execute_input": "2021-01-01T06:55:55.507758Z",
     "iopub.status.busy": "2021-01-01T06:55:55.506656Z",
     "iopub.status.idle": "2021-01-01T06:55:55.520165Z",
     "shell.execute_reply": "2021-01-01T06:55:55.522417Z"
    },
    "papermill": {
     "duration": 0.05576,
     "end_time": "2021-01-01T06:55:55.522804",
     "exception": false,
     "start_time": "2021-01-01T06:55:55.467044",
     "status": "completed"
    },
    "tags": []
   },
   "outputs": [
    {
     "name": "stdout",
     "output_type": "stream",
     "text": [
      "{'Desktop - Chrome': 0, 'iPhone - iOS': 1, 'iPhone - MobileWeb': 2, 'Desktop - IE': 3, 'iPhone - Web': 4, 'Android Phone - Android': 5, 'Desktop - Firefox': 6, 'Android Tablet - Web': 7, 'iPad - Web': 8, 'Other - Other': 9, 'Desktop - Safari': 10, 'Android Phone - Web': 11, 'iPad - iOS': 12, 'Android Phone - MobileWeb': 13, 'Unknown - MobileWeb': 14, 'Android Tablet - Android': 15, 'Android Tablet - MobileWeb': 16}\n"
     ]
    }
   ],
   "source": [
    "l = pd.unique(train[\"device_details\"])\n",
    "device_encoding = {}\n",
    "x = 0\n",
    "for i in l:\n",
    "    if i not in device_encoding:\n",
    "        device_encoding[i] = x\n",
    "        x+=1\n",
    "print(device_encoding)\n",
    "\n",
    "train[\"device_encoding\"] = train[\"device_details\"].map(device_encoding)\n",
    "test[\"device_encoding\"] = test[\"device_details\"].map(device_encoding)"
   ]
  },
  {
   "cell_type": "code",
   "execution_count": 11,
   "metadata": {
    "execution": {
     "iopub.execute_input": "2021-01-01T06:55:55.603984Z",
     "iopub.status.busy": "2021-01-01T06:55:55.603163Z",
     "iopub.status.idle": "2021-01-01T06:55:55.607218Z",
     "shell.execute_reply": "2021-01-01T06:55:55.606501Z"
    },
    "papermill": {
     "duration": 0.053553,
     "end_time": "2021-01-01T06:55:55.607347",
     "exception": false,
     "start_time": "2021-01-01T06:55:55.553794",
     "status": "completed"
    },
    "tags": []
   },
   "outputs": [
    {
     "data": {
      "text/html": [
       "<div>\n",
       "<style scoped>\n",
       "    .dataframe tbody tr th:only-of-type {\n",
       "        vertical-align: middle;\n",
       "    }\n",
       "\n",
       "    .dataframe tbody tr th {\n",
       "        vertical-align: top;\n",
       "    }\n",
       "\n",
       "    .dataframe thead th {\n",
       "        text-align: right;\n",
       "    }\n",
       "</style>\n",
       "<table border=\"1\" class=\"dataframe\">\n",
       "  <thead>\n",
       "    <tr style=\"text-align: right;\">\n",
       "      <th></th>\n",
       "      <th>session_number</th>\n",
       "      <th>device_details</th>\n",
       "      <th>date</th>\n",
       "      <th>purchased</th>\n",
       "      <th>added_in_cart</th>\n",
       "      <th>checked_out</th>\n",
       "      <th>time_spent</th>\n",
       "      <th>year</th>\n",
       "      <th>month</th>\n",
       "      <th>day</th>\n",
       "      <th>diff_date</th>\n",
       "      <th>device_encoding</th>\n",
       "    </tr>\n",
       "  </thead>\n",
       "  <tbody>\n",
       "    <tr>\n",
       "      <th>0</th>\n",
       "      <td>715</td>\n",
       "      <td>Desktop - Chrome</td>\n",
       "      <td>2020-01-22</td>\n",
       "      <td>1</td>\n",
       "      <td>0</td>\n",
       "      <td>0</td>\n",
       "      <td>236.886</td>\n",
       "      <td>2020</td>\n",
       "      <td>1</td>\n",
       "      <td>22</td>\n",
       "      <td>1579.6512</td>\n",
       "      <td>0</td>\n",
       "    </tr>\n",
       "    <tr>\n",
       "      <th>1</th>\n",
       "      <td>55</td>\n",
       "      <td>iPhone - iOS</td>\n",
       "      <td>2020-02-27</td>\n",
       "      <td>1</td>\n",
       "      <td>0</td>\n",
       "      <td>0</td>\n",
       "      <td>1277.455</td>\n",
       "      <td>2020</td>\n",
       "      <td>2</td>\n",
       "      <td>27</td>\n",
       "      <td>1582.7616</td>\n",
       "      <td>1</td>\n",
       "    </tr>\n",
       "    <tr>\n",
       "      <th>2</th>\n",
       "      <td>11</td>\n",
       "      <td>iPhone - MobileWeb</td>\n",
       "      <td>2019-08-01</td>\n",
       "      <td>0</td>\n",
       "      <td>0</td>\n",
       "      <td>0</td>\n",
       "      <td>21.704</td>\n",
       "      <td>2019</td>\n",
       "      <td>8</td>\n",
       "      <td>1</td>\n",
       "      <td>1564.6176</td>\n",
       "      <td>2</td>\n",
       "    </tr>\n",
       "    <tr>\n",
       "      <th>3</th>\n",
       "      <td>2794</td>\n",
       "      <td>Desktop - IE</td>\n",
       "      <td>2019-12-30</td>\n",
       "      <td>0</td>\n",
       "      <td>1</td>\n",
       "      <td>0</td>\n",
       "      <td>455.201</td>\n",
       "      <td>2019</td>\n",
       "      <td>12</td>\n",
       "      <td>30</td>\n",
       "      <td>1577.6640</td>\n",
       "      <td>3</td>\n",
       "    </tr>\n",
       "    <tr>\n",
       "      <th>4</th>\n",
       "      <td>3674</td>\n",
       "      <td>iPhone - Web</td>\n",
       "      <td>2019-09-10</td>\n",
       "      <td>0</td>\n",
       "      <td>0</td>\n",
       "      <td>0</td>\n",
       "      <td>1164.877</td>\n",
       "      <td>2019</td>\n",
       "      <td>9</td>\n",
       "      <td>10</td>\n",
       "      <td>1568.0736</td>\n",
       "      <td>4</td>\n",
       "    </tr>\n",
       "  </tbody>\n",
       "</table>\n",
       "</div>"
      ],
      "text/plain": [
       "   session_number      device_details       date  purchased  added_in_cart  \\\n",
       "0             715    Desktop - Chrome 2020-01-22          1              0   \n",
       "1              55        iPhone - iOS 2020-02-27          1              0   \n",
       "2              11  iPhone - MobileWeb 2019-08-01          0              0   \n",
       "3            2794        Desktop - IE 2019-12-30          0              1   \n",
       "4            3674        iPhone - Web 2019-09-10          0              0   \n",
       "\n",
       "   checked_out  time_spent  year  month  day  diff_date  device_encoding  \n",
       "0            0     236.886  2020      1   22  1579.6512                0  \n",
       "1            0    1277.455  2020      2   27  1582.7616                1  \n",
       "2            0      21.704  2019      8    1  1564.6176                2  \n",
       "3            0     455.201  2019     12   30  1577.6640                3  \n",
       "4            0    1164.877  2019      9   10  1568.0736                4  "
      ]
     },
     "execution_count": 11,
     "metadata": {},
     "output_type": "execute_result"
    }
   ],
   "source": [
    "train.head()"
   ]
  },
  {
   "cell_type": "code",
   "execution_count": 12,
   "metadata": {
    "execution": {
     "iopub.execute_input": "2021-01-01T06:55:55.674810Z",
     "iopub.status.busy": "2021-01-01T06:55:55.673812Z",
     "iopub.status.idle": "2021-01-01T06:55:55.677846Z",
     "shell.execute_reply": "2021-01-01T06:55:55.676827Z"
    },
    "papermill": {
     "duration": 0.041777,
     "end_time": "2021-01-01T06:55:55.677985",
     "exception": false,
     "start_time": "2021-01-01T06:55:55.636208",
     "status": "completed"
    },
    "tags": []
   },
   "outputs": [],
   "source": [
    "cols = ['session_number','device_encoding','purchased','added_in_cart','checked_out','year','month','day','diff_date']\n",
    "X = train[cols]\n",
    "Y = train[\"time_spent\"]"
   ]
  },
  {
   "cell_type": "code",
   "execution_count": 13,
   "metadata": {
    "execution": {
     "iopub.execute_input": "2021-01-01T06:55:55.745020Z",
     "iopub.status.busy": "2021-01-01T06:55:55.743981Z",
     "iopub.status.idle": "2021-01-01T06:55:59.097474Z",
     "shell.execute_reply": "2021-01-01T06:55:59.095425Z"
    },
    "papermill": {
     "duration": 3.389165,
     "end_time": "2021-01-01T06:55:59.097661",
     "exception": false,
     "start_time": "2021-01-01T06:55:55.708496",
     "status": "completed"
    },
    "tags": []
   },
   "outputs": [],
   "source": [
    "from matplotlib import pyplot as plt\n",
    "import seaborn as sns\n",
    "\n",
    "from sklearn.model_selection import GridSearchCV,KFold\n",
    "from sklearn.model_selection import train_test_split\n",
    "from sklearn.preprocessing import LabelEncoder , OneHotEncoder \n",
    "from sklearn.metrics import mean_squared_log_error\n",
    "\n",
    "import xgboost as xgb"
   ]
  },
  {
   "cell_type": "code",
   "execution_count": 14,
   "metadata": {
    "execution": {
     "iopub.execute_input": "2021-01-01T06:55:59.167252Z",
     "iopub.status.busy": "2021-01-01T06:55:59.164462Z",
     "iopub.status.idle": "2021-01-01T06:55:59.171263Z",
     "shell.execute_reply": "2021-01-01T06:55:59.170588Z"
    },
    "papermill": {
     "duration": 0.04393,
     "end_time": "2021-01-01T06:55:59.171376",
     "exception": false,
     "start_time": "2021-01-01T06:55:59.127446",
     "status": "completed"
    },
    "tags": []
   },
   "outputs": [],
   "source": [
    "x_tr,x_tst,y_tr,y_tst = train_test_split(X,Y,test_size=0.3,random_state=6969)"
   ]
  },
  {
   "cell_type": "code",
   "execution_count": 15,
   "metadata": {
    "execution": {
     "iopub.execute_input": "2021-01-01T06:55:59.224037Z",
     "iopub.status.busy": "2021-01-01T06:55:59.223348Z",
     "iopub.status.idle": "2021-01-01T06:56:00.401578Z",
     "shell.execute_reply": "2021-01-01T06:56:00.402473Z"
    },
    "papermill": {
     "duration": 1.211261,
     "end_time": "2021-01-01T06:56:00.402668",
     "exception": false,
     "start_time": "2021-01-01T06:55:59.191407",
     "status": "completed"
    },
    "tags": []
   },
   "outputs": [
    {
     "name": "stdout",
     "output_type": "stream",
     "text": [
      "[0]\tvalidation_0-rmse:1656.58997\n",
      "[1]\tvalidation_0-rmse:1502.47546\n",
      "[2]\tvalidation_0-rmse:1391.53589\n",
      "[3]\tvalidation_0-rmse:1302.43518\n",
      "[4]\tvalidation_0-rmse:1235.97485\n",
      "[5]\tvalidation_0-rmse:1181.11279\n",
      "[6]\tvalidation_0-rmse:1147.08337\n",
      "[7]\tvalidation_0-rmse:1110.56970\n",
      "[8]\tvalidation_0-rmse:1077.82495\n",
      "[9]\tvalidation_0-rmse:1056.86267\n",
      "[10]\tvalidation_0-rmse:1034.12817\n",
      "[11]\tvalidation_0-rmse:1005.33154\n",
      "[12]\tvalidation_0-rmse:983.80389\n",
      "[13]\tvalidation_0-rmse:963.24597\n",
      "[14]\tvalidation_0-rmse:953.03632\n",
      "[15]\tvalidation_0-rmse:943.74646\n",
      "[16]\tvalidation_0-rmse:930.70935\n",
      "[17]\tvalidation_0-rmse:920.40411\n",
      "[18]\tvalidation_0-rmse:907.15265\n",
      "[19]\tvalidation_0-rmse:895.89716\n",
      "[20]\tvalidation_0-rmse:883.78357\n",
      "[21]\tvalidation_0-rmse:876.89477\n",
      "[22]\tvalidation_0-rmse:860.13446\n",
      "[23]\tvalidation_0-rmse:849.37201\n",
      "[24]\tvalidation_0-rmse:843.64832\n",
      "[25]\tvalidation_0-rmse:838.20929\n",
      "[26]\tvalidation_0-rmse:835.12048\n",
      "[27]\tvalidation_0-rmse:825.53394\n",
      "[28]\tvalidation_0-rmse:812.92480\n",
      "[29]\tvalidation_0-rmse:805.10162\n",
      "[30]\tvalidation_0-rmse:802.74823\n",
      "[31]\tvalidation_0-rmse:799.88708\n",
      "[32]\tvalidation_0-rmse:786.86768\n",
      "[33]\tvalidation_0-rmse:770.23773\n",
      "[34]\tvalidation_0-rmse:759.64801\n",
      "[35]\tvalidation_0-rmse:752.74847\n",
      "[36]\tvalidation_0-rmse:745.31317\n",
      "[37]\tvalidation_0-rmse:741.41345\n",
      "[38]\tvalidation_0-rmse:734.70715\n",
      "[39]\tvalidation_0-rmse:724.68732\n",
      "[40]\tvalidation_0-rmse:717.73065\n",
      "[41]\tvalidation_0-rmse:712.16943\n",
      "[42]\tvalidation_0-rmse:699.27094\n",
      "[43]\tvalidation_0-rmse:691.33301\n",
      "[44]\tvalidation_0-rmse:685.98834\n",
      "[45]\tvalidation_0-rmse:680.89239\n",
      "[46]\tvalidation_0-rmse:677.06555\n",
      "[47]\tvalidation_0-rmse:671.23212\n",
      "[48]\tvalidation_0-rmse:664.86401\n",
      "[49]\tvalidation_0-rmse:659.30524\n",
      "[50]\tvalidation_0-rmse:650.74145\n",
      "[51]\tvalidation_0-rmse:648.35419\n",
      "[52]\tvalidation_0-rmse:644.36365\n",
      "[53]\tvalidation_0-rmse:638.55304\n",
      "[54]\tvalidation_0-rmse:634.99628\n",
      "[55]\tvalidation_0-rmse:631.04712\n",
      "[56]\tvalidation_0-rmse:626.56787\n",
      "[57]\tvalidation_0-rmse:624.31457\n",
      "[58]\tvalidation_0-rmse:616.36816\n",
      "[59]\tvalidation_0-rmse:614.23590\n",
      "[60]\tvalidation_0-rmse:612.07153\n",
      "[61]\tvalidation_0-rmse:608.96515\n",
      "[62]\tvalidation_0-rmse:600.31812\n",
      "[63]\tvalidation_0-rmse:589.94733\n",
      "[64]\tvalidation_0-rmse:585.51843\n",
      "[65]\tvalidation_0-rmse:580.49750\n",
      "[66]\tvalidation_0-rmse:571.33362\n",
      "[67]\tvalidation_0-rmse:562.42731\n",
      "[68]\tvalidation_0-rmse:560.11011\n",
      "[69]\tvalidation_0-rmse:555.49469\n",
      "[70]\tvalidation_0-rmse:552.56470\n",
      "[71]\tvalidation_0-rmse:548.69806\n",
      "[72]\tvalidation_0-rmse:546.00659\n",
      "[73]\tvalidation_0-rmse:542.03070\n",
      "[74]\tvalidation_0-rmse:540.27032\n",
      "[75]\tvalidation_0-rmse:539.81653\n",
      "[76]\tvalidation_0-rmse:536.41669\n",
      "[77]\tvalidation_0-rmse:535.07831\n",
      "[78]\tvalidation_0-rmse:530.94055\n",
      "[79]\tvalidation_0-rmse:527.61804\n",
      "[80]\tvalidation_0-rmse:524.92328\n",
      "[81]\tvalidation_0-rmse:524.10046\n",
      "[82]\tvalidation_0-rmse:519.26312\n",
      "[83]\tvalidation_0-rmse:511.56641\n",
      "[84]\tvalidation_0-rmse:508.26633\n",
      "[85]\tvalidation_0-rmse:503.07355\n",
      "[86]\tvalidation_0-rmse:500.98389\n",
      "[87]\tvalidation_0-rmse:499.32617\n",
      "[88]\tvalidation_0-rmse:497.79102\n",
      "[89]\tvalidation_0-rmse:495.94723\n",
      "[90]\tvalidation_0-rmse:493.30075\n",
      "[91]\tvalidation_0-rmse:489.52750\n",
      "[92]\tvalidation_0-rmse:488.71838\n",
      "[93]\tvalidation_0-rmse:486.05795\n",
      "[94]\tvalidation_0-rmse:481.15256\n",
      "[95]\tvalidation_0-rmse:480.38061\n",
      "[96]\tvalidation_0-rmse:475.80109\n",
      "[97]\tvalidation_0-rmse:471.25156\n",
      "[98]\tvalidation_0-rmse:467.73090\n",
      "[99]\tvalidation_0-rmse:465.32590\n",
      "[100]\tvalidation_0-rmse:464.28867\n",
      "[101]\tvalidation_0-rmse:462.54752\n",
      "[102]\tvalidation_0-rmse:459.57889\n",
      "[103]\tvalidation_0-rmse:455.57715\n",
      "[104]\tvalidation_0-rmse:451.63092\n",
      "[105]\tvalidation_0-rmse:447.78491\n",
      "[106]\tvalidation_0-rmse:445.69257\n",
      "[107]\tvalidation_0-rmse:442.17825\n",
      "[108]\tvalidation_0-rmse:440.81061\n",
      "[109]\tvalidation_0-rmse:437.62668\n",
      "[110]\tvalidation_0-rmse:437.11267\n",
      "[111]\tvalidation_0-rmse:436.52374\n",
      "[112]\tvalidation_0-rmse:435.28018\n",
      "[113]\tvalidation_0-rmse:434.59952\n",
      "[114]\tvalidation_0-rmse:432.19684\n",
      "[115]\tvalidation_0-rmse:427.83173\n",
      "[116]\tvalidation_0-rmse:424.61548\n",
      "[117]\tvalidation_0-rmse:421.86459\n",
      "[118]\tvalidation_0-rmse:420.81070\n",
      "[119]\tvalidation_0-rmse:418.42658\n",
      "[120]\tvalidation_0-rmse:418.17746\n",
      "[121]\tvalidation_0-rmse:415.40195\n",
      "[122]\tvalidation_0-rmse:413.29413\n",
      "[123]\tvalidation_0-rmse:412.34616\n",
      "[124]\tvalidation_0-rmse:411.77792\n",
      "[125]\tvalidation_0-rmse:408.99777\n",
      "[126]\tvalidation_0-rmse:408.61191\n",
      "[127]\tvalidation_0-rmse:407.11832\n",
      "[128]\tvalidation_0-rmse:406.43814\n",
      "[129]\tvalidation_0-rmse:404.31625\n",
      "[130]\tvalidation_0-rmse:401.23831\n",
      "[131]\tvalidation_0-rmse:397.48776\n",
      "[132]\tvalidation_0-rmse:394.89639\n",
      "[133]\tvalidation_0-rmse:392.65161\n",
      "[134]\tvalidation_0-rmse:390.82532\n",
      "[135]\tvalidation_0-rmse:388.03299\n",
      "[136]\tvalidation_0-rmse:387.81680\n",
      "[137]\tvalidation_0-rmse:386.97247\n",
      "[138]\tvalidation_0-rmse:385.27063\n",
      "[139]\tvalidation_0-rmse:383.93723\n",
      "[140]\tvalidation_0-rmse:381.64993\n",
      "[141]\tvalidation_0-rmse:378.93442\n",
      "[142]\tvalidation_0-rmse:375.89069\n",
      "[143]\tvalidation_0-rmse:371.96045\n",
      "[144]\tvalidation_0-rmse:368.24344\n",
      "[145]\tvalidation_0-rmse:367.41965\n",
      "[146]\tvalidation_0-rmse:365.75369\n",
      "[147]\tvalidation_0-rmse:364.21954\n",
      "[148]\tvalidation_0-rmse:361.64179\n",
      "[149]\tvalidation_0-rmse:361.09049\n",
      "[150]\tvalidation_0-rmse:358.71240\n",
      "[151]\tvalidation_0-rmse:357.04926\n",
      "[152]\tvalidation_0-rmse:355.77414\n",
      "[153]\tvalidation_0-rmse:354.19070\n",
      "[154]\tvalidation_0-rmse:352.77460\n",
      "[155]\tvalidation_0-rmse:352.40201\n",
      "[156]\tvalidation_0-rmse:350.46921\n",
      "[157]\tvalidation_0-rmse:346.75143\n",
      "[158]\tvalidation_0-rmse:343.32574\n",
      "[159]\tvalidation_0-rmse:341.28146\n",
      "[160]\tvalidation_0-rmse:338.44196\n",
      "[161]\tvalidation_0-rmse:336.83923\n",
      "[162]\tvalidation_0-rmse:335.32828\n",
      "[163]\tvalidation_0-rmse:333.26471\n",
      "[164]\tvalidation_0-rmse:332.72070\n",
      "[165]\tvalidation_0-rmse:331.90665\n",
      "[166]\tvalidation_0-rmse:329.59070\n",
      "[167]\tvalidation_0-rmse:328.50458\n",
      "[168]\tvalidation_0-rmse:328.35843\n",
      "[169]\tvalidation_0-rmse:325.47897\n",
      "[170]\tvalidation_0-rmse:323.91046\n",
      "[171]\tvalidation_0-rmse:322.86075\n",
      "[172]\tvalidation_0-rmse:322.18835\n",
      "[173]\tvalidation_0-rmse:317.55734\n",
      "[174]\tvalidation_0-rmse:315.43066\n",
      "[175]\tvalidation_0-rmse:312.41846\n",
      "[176]\tvalidation_0-rmse:309.85760\n",
      "[177]\tvalidation_0-rmse:309.16037\n",
      "[178]\tvalidation_0-rmse:308.65710\n",
      "[179]\tvalidation_0-rmse:307.44961\n",
      "[180]\tvalidation_0-rmse:305.24420\n",
      "[181]\tvalidation_0-rmse:303.19275\n",
      "[182]\tvalidation_0-rmse:302.78705\n",
      "[183]\tvalidation_0-rmse:301.83344\n",
      "[184]\tvalidation_0-rmse:300.12143\n",
      "[185]\tvalidation_0-rmse:299.56811\n",
      "[186]\tvalidation_0-rmse:298.14416\n",
      "[187]\tvalidation_0-rmse:296.96155\n",
      "[188]\tvalidation_0-rmse:296.51245\n",
      "[189]\tvalidation_0-rmse:295.74487\n",
      "[190]\tvalidation_0-rmse:294.95569\n",
      "[191]\tvalidation_0-rmse:294.49716\n",
      "[192]\tvalidation_0-rmse:293.82629\n",
      "[193]\tvalidation_0-rmse:292.95847\n",
      "[194]\tvalidation_0-rmse:292.48566\n",
      "[195]\tvalidation_0-rmse:291.73962\n",
      "[196]\tvalidation_0-rmse:290.17114\n",
      "[197]\tvalidation_0-rmse:288.43375\n",
      "[198]\tvalidation_0-rmse:287.82355\n",
      "[199]\tvalidation_0-rmse:286.04916\n"
     ]
    },
    {
     "data": {
      "text/plain": [
       "1.9377470590639405"
      ]
     },
     "execution_count": 15,
     "metadata": {},
     "output_type": "execute_result"
    }
   ],
   "source": [
    "xgr = xgb.XGBRegressor(booster='gbtree',n_estimators=200)\n",
    "xgr.fit(X=x_tr[cols],y=y_tr,eval_set=[(x_tr[cols],y_tr)],eval_metric=\"rmse\",verbose=1)\n",
    "ans = abs(xgr.predict(x_tst))\n",
    "score = np.sqrt(mean_squared_log_error(y_tst, ans))\n",
    "score"
   ]
  },
  {
   "cell_type": "code",
   "execution_count": 16,
   "metadata": {
    "execution": {
     "iopub.execute_input": "2021-01-01T06:56:00.720133Z",
     "iopub.status.busy": "2021-01-01T06:56:00.719470Z",
     "iopub.status.idle": "2021-01-01T06:56:00.727189Z",
     "shell.execute_reply": "2021-01-01T06:56:00.727714Z"
    },
    "papermill": {
     "duration": 0.154252,
     "end_time": "2021-01-01T06:56:00.727855",
     "exception": false,
     "start_time": "2021-01-01T06:56:00.573603",
     "status": "completed"
    },
    "tags": []
   },
   "outputs": [
    {
     "data": {
      "text/plain": [
       "session_number     0.078437\n",
       "purchased          0.200762\n",
       "added_in_cart      0.209807\n",
       "checked_out        0.157765\n",
       "time_spent         1.000000\n",
       "year              -0.030843\n",
       "month              0.013367\n",
       "day               -0.030206\n",
       "diff_date         -0.046154\n",
       "device_encoding   -0.020000\n",
       "Name: time_spent, dtype: float64"
      ]
     },
     "execution_count": 16,
     "metadata": {},
     "output_type": "execute_result"
    }
   ],
   "source": [
    "train.corr().time_spent"
   ]
  },
  {
   "cell_type": "code",
   "execution_count": 17,
   "metadata": {
    "execution": {
     "iopub.execute_input": "2021-01-01T06:56:00.913809Z",
     "iopub.status.busy": "2021-01-01T06:56:00.912577Z",
     "iopub.status.idle": "2021-01-01T06:56:01.468336Z",
     "shell.execute_reply": "2021-01-01T06:56:01.468853Z"
    },
    "papermill": {
     "duration": 0.649475,
     "end_time": "2021-01-01T06:56:01.469005",
     "exception": false,
     "start_time": "2021-01-01T06:56:00.819530",
     "status": "completed"
    },
    "tags": []
   },
   "outputs": [
    {
     "data": {
      "image/png": "[encoded data removed]",
      "text/plain": [
       "<Figure size 432x288 with 1 Axes>"
      ]
     },
     "metadata": {
      "needs_background": "light"
     },
     "output_type": "display_data"
    }
   ],
   "source": [
    "feat_importances = pd.Series(xgr.feature_importances_, index=cols)\n",
    "feat_importances.nlargest(6).plot(kind='barh')\n",
    "plt.show()"
   ]
  },
  {
   "cell_type": "code",
   "execution_count": 18,
   "metadata": {
    "execution": {
     "iopub.execute_input": "2021-01-01T06:56:01.651480Z",
     "iopub.status.busy": "2021-01-01T06:56:01.650754Z",
     "iopub.status.idle": "2021-01-01T06:56:01.658702Z",
     "shell.execute_reply": "2021-01-01T06:56:01.658016Z"
    },
    "papermill": {
     "duration": 0.100473,
     "end_time": "2021-01-01T06:56:01.658814",
     "exception": false,
     "start_time": "2021-01-01T06:56:01.558341",
     "status": "completed"
    },
    "tags": []
   },
   "outputs": [],
   "source": [
    "cols = ['session_number','purchased','added_in_cart','checked_out']"
   ]
  },
  {
   "cell_type": "code",
   "execution_count": 19,
   "metadata": {
    "execution": {
     "iopub.execute_input": "2021-01-01T06:56:01.843114Z",
     "iopub.status.busy": "2021-01-01T06:56:01.842474Z",
     "iopub.status.idle": "2021-01-01T06:56:02.228246Z",
     "shell.execute_reply": "2021-01-01T06:56:02.228868Z"
    },
    "papermill": {
     "duration": 0.480183,
     "end_time": "2021-01-01T06:56:02.229032",
     "exception": false,
     "start_time": "2021-01-01T06:56:01.748849",
     "status": "completed"
    },
    "tags": []
   },
   "outputs": [],
   "source": [
    "xgr.fit(X=X[cols],y=Y,verbose=2)\n",
    "ans = xgr.predict(test[cols])"
   ]
  },
  {
   "cell_type": "code",
   "execution_count": 20,
   "metadata": {
    "execution": {
     "iopub.execute_input": "2021-01-01T06:56:02.464444Z",
     "iopub.status.busy": "2021-01-01T06:56:02.463510Z",
     "iopub.status.idle": "2021-01-01T06:56:02.835617Z",
     "shell.execute_reply": "2021-01-01T06:56:02.834700Z"
    },
    "papermill": {
     "duration": 0.49221,
     "end_time": "2021-01-01T06:56:02.835758",
     "exception": false,
     "start_time": "2021-01-01T06:56:02.343548",
     "status": "completed"
    },
    "tags": []
   },
   "outputs": [],
   "source": [
    "sub = pd.read_csv('../input/buyers-time-prediction-challenge/ParticipantData_BTPC/Sample Submission.csv')\n",
    "sub[\"time_spent\"]=abs(ans)\n",
    "\n",
    "sub.to_csv('res1.csv', index=False)"
   ]
  },
  {
   "cell_type": "code",
   "execution_count": null,
   "metadata": {
    "papermill": {
     "duration": 0.135119,
     "end_time": "2021-01-01T06:56:03.106543",
     "exception": false,
     "start_time": "2021-01-01T06:56:02.971424",
     "status": "completed"
    },
    "tags": []
   },
   "outputs": [],
   "source": []
  }
 ],
 "metadata": {
  "kernelspec": {
   "display_name": "Python 3",
   "language": "python",
   "name": "python3"
  },
  "language_info": {
   "codemirror_mode": {
    "name": "ipython",
    "version": 3
   },
   "file_extension": ".py",
   "mimetype": "text/x-python",
   "name": "python",
   "nbconvert_exporter": "python",
   "pygments_lexer": "ipython3",
   "version": "3.7.6"
  },
  "papermill": {
   "duration": 15.38686,
   "end_time": "2021-01-01T06:56:03.353300",
   "environment_variables": {},
   "exception": null,
   "input_path": "__notebook__.ipynb",
   "output_path": "__notebook__.ipynb",
   "parameters": {},
   "start_time": "2021-01-01T06:55:47.966440",
   "version": "2.1.0"
  }
 },
 "nbformat": 4,
 "nbformat_minor": 4
}
